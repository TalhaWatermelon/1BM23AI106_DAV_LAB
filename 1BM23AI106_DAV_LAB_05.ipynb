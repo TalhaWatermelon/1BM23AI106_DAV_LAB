{
 "cells": [
  {
   "cell_type": "code",
   "execution_count": 15,
   "id": "055d1a02",
   "metadata": {},
   "outputs": [
    {
     "name": "stdout",
     "output_type": "stream",
     "text": [
      "              Population       GDP  Life_Expentancy\n",
      "Country Year                                       \n",
      "USA     2020   331000000  21000000             78.5\n",
      "        2021   332000000  21500000             78.7\n",
      "China   2020  1402000000  14700000             76.9\n",
      "        2021  1405000000  15500000             77.1\n",
      "Germany 2020    83000000   4000000             81.3\n",
      "        2021    83100000   4200000             81.5\n",
      "606016666.6666666\n",
      "80900000\n",
      "81.5\n",
      "4000000\n",
      "606016666.6666666\n",
      "7099628.315779793\n",
      "80900000\n",
      "              Population         GDP  Life_Expentancy\n",
      "Country Year                                         \n",
      "USA     2020   331000000  23100000.0             78.5\n",
      "        2021   332000000  23650000.0             78.7\n",
      "China   2020  1402000000  16170000.0             76.9\n",
      "        2021  1405000000  17050000.0             77.1\n",
      "Germany 2020    83000000   4400000.0             81.3\n",
      "        2021    83100000   4620000.0             81.5\n",
      "              Population         GDP  Life_Expentancy\n",
      "Year Country                                         \n",
      "2020 China    1402000000  16170000.0             76.9\n",
      "     Germany    83000000   4400000.0             81.3\n",
      "     USA       331000000  23100000.0             78.5\n",
      "2021 China    1405000000  17050000.0             77.1\n",
      "     Germany    83100000   4620000.0             81.5\n",
      "     USA       332000000  23650000.0             78.7\n",
      "         Population                     GDP             Life_Expentancy      \n",
      "Year           2020        2021        2020        2021            2020  2021\n",
      "Country                                                                      \n",
      "China    1402000000  1405000000  16170000.0  17050000.0            76.9  77.1\n",
      "Germany    83000000    83100000   4400000.0   4620000.0            81.3  81.5\n",
      "USA       331000000   332000000  23100000.0  23650000.0            78.5  78.7\n",
      "Year\n",
      "2020    1402000000\n",
      "2021    1405000000\n",
      "Name: Population, dtype: int64\n"
     ]
    }
   ],
   "source": [
    "\n",
    "import pandas as pd\n",
    "import numpy as np\n",
    "\n",
    "df = pd.read_csv('abc.csv')\n",
    "\n",
    "# Step 2: Set multi-index\n",
    "df.set_index(['Country', 'Year'], inplace=True)\n",
    "print(df)\n",
    "\n",
    "# Step 3: Calculations\n",
    "print(df['Population'].mean())\n",
    "print(df['GDP'].sum())\n",
    "print(df['Life_Expentancy'].max())\n",
    "print(df['GDP'].min())\n",
    "\n",
    "print(np.mean(df['Population']))\n",
    "print(np.std(df['GDP']))\n",
    "print(np.sum(df['GDP']))\n",
    "\n",
    "# Step 4: Modify GDP by increasing it 10%\n",
    "df['GDP'] = df['GDP'].apply(lambda x: x * 1.10)\n",
    "print(df)\n",
    "\n",
    "# Step 5: Swap index levels and sort\n",
    "df_swapped = df.swaplevel().sort_index()\n",
    "print(df_swapped)\n",
    "\n",
    "# Step 6: Unstack by 'Year'\n",
    "df_unstacked = df.unstack(level='Year')\n",
    "print(df_unstacked)\n",
    "\n",
    "# Step 7: Access China's population data\n",
    "print(df.loc['China', 'Population'])\n",
    "\n"
   ]
  },
  {
   "cell_type": "code",
   "execution_count": null,
   "id": "bbc0eb3e",
   "metadata": {},
   "outputs": [],
   "source": []
  }
 ],
 "metadata": {
  "kernelspec": {
   "display_name": "Python 3 (ipykernel)",
   "language": "python",
   "name": "python3"
  },
  "language_info": {
   "codemirror_mode": {
    "name": "ipython",
    "version": 3
   },
   "file_extension": ".py",
   "mimetype": "text/x-python",
   "name": "python",
   "nbconvert_exporter": "python",
   "pygments_lexer": "ipython3",
   "version": "3.11.5"
  }
 },
 "nbformat": 4,
 "nbformat_minor": 5
}
